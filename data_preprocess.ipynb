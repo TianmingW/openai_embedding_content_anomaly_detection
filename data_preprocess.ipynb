{
 "cells": [
  {
   "cell_type": "markdown",
   "metadata": {},
   "source": [
    "# Data pre-process\n",
    "\n",
    "for the csv files in batch"
   ]
  },
  {
   "cell_type": "code",
   "execution_count": 1,
   "metadata": {},
   "outputs": [],
   "source": [
    "import sys\n",
    "# Add the directory containing embeddings_utils.py to the Python path\n",
    "sys.path.append('./utils')\n",
    "import os\n",
    "import glob\n",
    "\n",
    "import pandas as pd\n",
    "import tiktoken\n",
    "from utils.embeddings_utils import get_embedding\n",
    "import re"
   ]
  },
  {
   "cell_type": "code",
   "execution_count": 2,
   "metadata": {},
   "outputs": [],
   "source": [
    "def tokenizer_payload(hex_string, token_length = 4):\n",
    "    # token_length = 4 \n",
    "    # new token length according to the max tokens for the embedding; which is original 6   \n",
    "    regex_pattern = '.{1,' + str(token_length) + '}'\n",
    "    return ' '.join(re.findall(regex_pattern, hex_string))"
   ]
  },
  {
   "cell_type": "code",
   "execution_count": 3,
   "metadata": {},
   "outputs": [],
   "source": [
    "def get_embeddings_from_payload(csv_file, benign = True, embedding_model = \"text-embedding-ada-002\", embedding_encoding = \"cl100k_base\" ):\n",
    "    max_tokens = 8000  # the maximum for text-embedding-ada-002 is 8191\n",
    "    top_n = 500 # take first 10 packets for test\n",
    "    filename = os.path.basename(csv_file)\n",
    "\n",
    "    df = pd.read_csv(csv_file)\n",
    "    df.dropna(subset = ['tcp.payload'], inplace=True)\n",
    "\n",
    "    df['tokenizer_content'] = df['tcp.payload'].apply(tokenizer_payload)\n",
    "    encoding = tiktoken.get_encoding(embedding_encoding)\n",
    "\n",
    "    df[\"n_tokens\"] = df.tokenizer_content.apply(lambda x: len(encoding.encode(x)))\n",
    "    df = df[df.n_tokens <= max_tokens].tail(top_n)\n",
    "    # df = df[df.n_tokens <= max_tokens]\n",
    "\n",
    "    df_embedding = pd.DataFrame()\n",
    "    df_embedding[\"X\"] = df.tokenizer_content.apply(lambda x: get_embedding(x, model=embedding_model))\n",
    "    if(benign):\n",
    "        df_embedding[\"y\"] = 0\n",
    "    else:\n",
    "        df_embedding[\"y\"] = 1\n",
    "    df_embedding.to_csv(\"./embeddings/\"+filename, index=False)\n",
    "    return 0"
   ]
  },
  {
   "cell_type": "code",
   "execution_count": 4,
   "metadata": {},
   "outputs": [
    {
     "name": "stdout",
     "output_type": "stream",
     "text": [
      "Processing file: ./test_payload/12hack3_2.csv\n",
      "Already done: ./test_payload/12hack3_2.csv\n",
      "Processing file: ./test_payload/8webcam932_novideo_load_ip12.csv\n",
      "Already done: ./test_payload/8webcam932_novideo_load_ip12.csv\n",
      "Processing file: ./test_payload/4Lab_cam_fw16_2.csv\n",
      "Already done: ./test_payload/4Lab_cam_fw16_2.csv\n",
      "Processing file: ./test_payload/6Lab_cam_fw17_3.csv\n",
      "Processing file: ./test_payload/5Lab_cam_fw16_3.csv\n",
      "Processing file: ./test_payload/10webcam5020_novideo_hack_ip134.csv\n",
      "Processing file: ./test_payload/9webcam5020_novideo_load_ip134.csv\n",
      "Processing file: ./test_payload/3txt_sample10_trans_enc_utf8.csv\n",
      "Processing file: ./test_payload/7attacked_932_loading.csv\n",
      "Processing file: ./test_payload/1txt_sample5clean_enc_ip159.csv\n",
      "Processing file: ./test_payload/2txt_sample9_trans_enc_utf8.csv\n",
      "Processing file: ./test_payload/11webcam932_novideo_hack_ip12.csv\n"
     ]
    }
   ],
   "source": [
    "# Set the folder path\n",
    "folder_path = './test_payload/'  # Replace with your folder path\n",
    "done_list = [\"4Lab_cam_fw16_2.csv\", \n",
    "             \"8webcam932_novideo_load_ip12.csv\",\n",
    "             \"12hack3_2.csv\"]\n",
    "\n",
    "# Iterate over all CSV files in the folder\n",
    "for csv_file in glob.glob(os.path.join(folder_path, '*.csv')):\n",
    "    filename = os.path.basename(csv_file)\n",
    "    print(f\"Processing file: {csv_file}\")\n",
    "    if filename in done_list:\n",
    "        print(f\"Already done: {csv_file}\")\n",
    "        continue\n",
    "    if ('attack' in filename) or ('hack' in filename) or ('load' in filename):\n",
    "        get_embeddings_from_payload(csv_file, benign=False)\n",
    "    else:\n",
    "        get_embeddings_from_payload(csv_file, benign=True)"
   ]
  },
  {
   "cell_type": "code",
   "execution_count": 2,
   "metadata": {},
   "outputs": [
    {
     "data": {
      "text/plain": [
       "0    [-0.0051308306865394115, -0.021122252568602562...\n",
       "1    [-0.016887426376342773, -0.008056876249611378,...\n",
       "Name: X, dtype: object"
      ]
     },
     "execution_count": 2,
     "metadata": {},
     "output_type": "execute_result"
    }
   ],
   "source": [
    "df_temp = pd.read_csv(\"./embeddings/4Lab_cam_fw16_2.csv\")\n",
    "df_temp.iloc[:2][\"X\"]"
   ]
  },
  {
   "cell_type": "code",
   "execution_count": 7,
   "metadata": {},
   "outputs": [
    {
     "data": {
      "text/plain": [
       "0    [-0.0051308306865394115, -0.021122252568602562...\n",
       "1    [-0.016887426376342773, -0.008056876249611378,...\n",
       "Name: X, dtype: object"
      ]
     },
     "execution_count": 7,
     "metadata": {},
     "output_type": "execute_result"
    }
   ],
   "source": [
    "df_temp_2 = pd.read_csv(\"./embeddings_2/4Lab_cam_fw16_2.csv\")\n",
    "df_temp_2.iloc[:2][\"X\"]"
   ]
  },
  {
   "cell_type": "code",
   "execution_count": null,
   "metadata": {},
   "outputs": [],
   "source": []
  }
 ],
 "metadata": {
  "kernelspec": {
   "display_name": "Python 3",
   "language": "python",
   "name": "python3"
  },
  "language_info": {
   "codemirror_mode": {
    "name": "ipython",
    "version": 3
   },
   "file_extension": ".py",
   "mimetype": "text/x-python",
   "name": "python",
   "nbconvert_exporter": "python",
   "pygments_lexer": "ipython3",
   "version": "3.11.3"
  }
 },
 "nbformat": 4,
 "nbformat_minor": 2
}
